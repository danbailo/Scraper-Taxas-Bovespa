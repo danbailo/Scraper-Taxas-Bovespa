{
 "cells": [
  {
   "cell_type": "markdown",
   "metadata": {},
   "source": [
    "https://curl.trillworks.com/"
   ]
  },
  {
   "cell_type": "code",
   "execution_count": 44,
   "metadata": {},
   "outputs": [],
   "source": [
    "import requests\n",
    "import pandas as pd\n",
    "from bs4 import BeautifulSoup\n",
    "from functools import reduce\n",
    "import seaborn as sns\n",
    "import matplotlib.pyplot as plt\n",
    "%matplotlib inline"
   ]
  },
  {
   "cell_type": "code",
   "execution_count": 13,
   "metadata": {},
   "outputs": [],
   "source": [
    "cookies = {\n",
    "    'ASPSESSIONIDCSCSTQDS': 'FJPPKCJCCLPBLHHEEPCKPHJL',\n",
    "    'rxVisitor': '1567434794791V6MI0JKUSQLU8FBP8JSQ993PDH20849S',\n",
    "    '_ga': 'GA1.4.1917327044.1567434796',\n",
    "    '_gid': 'GA1.4.1820181182.1567434796',\n",
    "    'TS01ccf8f5': '016e3b076fe8ae3713d848c02530ec23eda76a0cb786e5843de3b2c361a764ad6066b29aefe27b13aec0d16845c52990bc09344a5324dec968ab7034535153c30f3827d1c5',\n",
    "    'ASPSESSIONIDQQDTTQAR': 'CFGLCFJCCFHDPODDDJCGOCDO',\n",
    "    'TS01871345': '016e3b076fd3c661d804b074e15649329e6d37810a9f1ea98494068164bd455db8e278b100ba6e6b477ce6b4128beb38dc9fae9cf562b2b8cf4f10676e7a26d4b046c7f5ff92ac30d37846c9832df25b3be6c0655b',\n",
    "    'dtSa': '-',\n",
    "    '_dc_gtm_UA-43178799-13': '1',\n",
    "    'dtPC': '1$238641608_310h-vKHHGMLIDPLJGJIMOOEFOOLIANABGKLFO',\n",
    "    'rxvt': '1567440447881|1567438520340',\n",
    "    'dtLatC': '3',\n",
    "    'dtCookie': '1$C2118806ECB5F998A066C983F703DD1E|5286dfffe4e737f8|1',\n",
    "}\n",
    "\n",
    "headers = {\n",
    "    'Connection': 'keep-alive',\n",
    "    'Cache-Control': 'max-age=0',\n",
    "    'Upgrade-Insecure-Requests': '1',\n",
    "    'User-Agent': 'Mozilla/5.0 (Linux; Android 6.0; Nexus 5 Build/MRA58N) AppleWebKit/537.36 (KHTML, like Gecko) Chrome/76.0.3809.132 Mobile Safari/537.36',\n",
    "    'Origin': 'http://www2.bmf.com.br',\n",
    "    'Content-Type': 'application/x-www-form-urlencoded',\n",
    "    'Accept': 'text/html,application/xhtml+xml,application/xml;q=0.9,image/webp,image/apng,*/*;q=0.8,application/signed-exchange;v=b3',\n",
    "    'Referer': 'http://www2.bmf.com.br/pages/portal/bmfbovespa/lumis/lum-taxas-referenciais-bmf-ptBR.asp?Data=30/08/2019&Data1=20190830&slcTaxa=PRE',\n",
    "    'Accept-Encoding': 'gzip, deflate',\n",
    "    'Accept-Language': 'en,en-US;q=0.9,pt-BR;q=0.8,pt;q=0.7',\n",
    "}"
   ]
  },
  {
   "cell_type": "code",
   "execution_count": 14,
   "metadata": {},
   "outputs": [],
   "source": [
    "# data_bmf = {}\n",
    "# data_bmf['Dias Corridos'] = []\n",
    "# data_bmf['DI x pré'] = {'252(2)(4)':[], '360(1)':[]}"
   ]
  },
  {
   "cell_type": "code",
   "execution_count": 64,
   "metadata": {},
   "outputs": [],
   "source": [
    "date_rng = pd.date_range(start='1/1/2018', end='1/31/2018')"
   ]
  },
  {
   "cell_type": "code",
   "execution_count": 60,
   "metadata": {},
   "outputs": [
    {
     "data": {
      "text/plain": [
       "DatetimeIndex(['2018-01-01', '2018-01-02', '2018-01-03', '2018-01-04',\n",
       "               '2018-01-05', '2018-01-06', '2018-01-07', '2018-01-08',\n",
       "               '2018-01-09', '2018-01-10', '2018-01-11', '2018-01-12',\n",
       "               '2018-01-13', '2018-01-14', '2018-01-15', '2018-01-16',\n",
       "               '2018-01-17', '2018-01-18', '2018-01-19', '2018-01-20',\n",
       "               '2018-01-21', '2018-01-22', '2018-01-23', '2018-01-24',\n",
       "               '2018-01-25', '2018-01-26', '2018-01-27', '2018-01-28',\n",
       "               '2018-01-29', '2018-01-30', '2018-01-31'],\n",
       "              dtype='datetime64[ns]', freq='D')"
      ]
     },
     "execution_count": 60,
     "metadata": {},
     "output_type": "execute_result"
    }
   ],
   "source": [
    "date_rng"
   ]
  },
  {
   "cell_type": "code",
   "execution_count": null,
   "metadata": {},
   "outputs": [],
   "source": [
    "days = ['01','02','03','04','05','06','07','08','09','10','11','12','13','14','15','16','17','18','19','20','21','22','23','24','25','26','27','28','29','30','31']\n",
    "months = ['01','02','03','04','05','06','07','08','09','10','11','12']\n",
    "years = ['2009','2010','2011','2012','2013','2014','2015','2016','2017','2018','2019']\n",
    "# days = ['28','29','30']\n",
    "# months = ['08']\n",
    "# years = ['2019']\n",
    "\n",
    "data_bmf = {}\n",
    "\n",
    "list_df = []\n",
    "\n",
    "for year in years:\n",
    "    for month in months:\n",
    "        for day in days:\n",
    "            data_bmf[day+'/'+month+'/'+year] = {'Dias Corridos':[], '252(2)(4)':[], '360(1)':[]}\n",
    "            params = (\n",
    "                ('Data', day+'/'+month+'/'+year),\n",
    "                ('Data1', year+month+day),\n",
    "                ('slcTaxa', 'PRE'),\n",
    "            )\n",
    "\n",
    "            data = {\n",
    "              'slcTaxa': 'PRE',\n",
    "              'Data1': year+month+day,\n",
    "              'Data': day+'/'+month+'/'+year,\n",
    "              'convertexls1': '',\n",
    "              'nomexls': '',\n",
    "              'lQtdTabelas': '',\n",
    "              'IDIOMA': '1'\n",
    "            }\n",
    "\n",
    "            response = requests.post('http://www2.bmf.com.br/pages/portal/bmfbovespa/lumis/lum-taxas-referenciais-bmf-ptBR.asp', headers=headers, params=params, cookies=cookies, data=data, verify=False)\n",
    "            soup = BeautifulSoup(response.text, 'html.parser')\n",
    "            all_td = soup.findAll('td')\n",
    "\n",
    "            state = 0\n",
    "            for td in all_td:\n",
    "                if not bool(td.attrs):\n",
    "                    data_bmf[day+'/'+month+'/'+year]['Dias Corridos'].append(td.text)\n",
    "                else :\n",
    "                    if state == 0: \n",
    "                        data_bmf[day+'/'+month+'/'+year]['252(2)(4)'].append(td.text)\n",
    "                        state = 1\n",
    "                    elif state == 1:\n",
    "                        data_bmf[day+'/'+month+'/'+year]['360(1)'].append(td.text)\n",
    "                        state = 0\n",
    "            df = pd.DataFrame(\n",
    "                data=data_bmf[day+'/'+month+'/'+year].values(),\n",
    "                index=data_bmf[day+'/'+month+'/'+year].keys(),\n",
    "                columns=[day+'/'+month+'/'+year]*len(data_bmf[day+'/'+month+'/'+year]['Dias Corridos'])).T\n",
    "            list_df.append(df)"
   ]
  },
  {
   "cell_type": "code",
   "execution_count": 5,
   "metadata": {},
   "outputs": [],
   "source": [
    "df = reduce(lambda df1,df2:pd.concat([df1,df2], axis=0, join='outer'), list_df)"
   ]
  },
  {
   "cell_type": "code",
   "execution_count": 22,
   "metadata": {},
   "outputs": [
    {
     "data": {
      "text/html": [
       "<div>\n",
       "<style scoped>\n",
       "    .dataframe tbody tr th:only-of-type {\n",
       "        vertical-align: middle;\n",
       "    }\n",
       "\n",
       "    .dataframe tbody tr th {\n",
       "        vertical-align: top;\n",
       "    }\n",
       "\n",
       "    .dataframe thead th {\n",
       "        text-align: right;\n",
       "    }\n",
       "</style>\n",
       "<table border=\"1\" class=\"dataframe\">\n",
       "  <thead>\n",
       "    <tr style=\"text-align: right;\">\n",
       "      <th></th>\n",
       "      <th>Dias Corridos</th>\n",
       "      <th>252(2)(4)</th>\n",
       "      <th>360(1)</th>\n",
       "    </tr>\n",
       "  </thead>\n",
       "  <tbody>\n",
       "    <tr>\n",
       "      <th>02/01/2009</th>\n",
       "      <td>3</td>\n",
       "      <td>13,62</td>\n",
       "      <td>13,27</td>\n",
       "    </tr>\n",
       "    <tr>\n",
       "      <th>02/01/2009</th>\n",
       "      <td>13</td>\n",
       "      <td>13,35</td>\n",
       "      <td>13,20</td>\n",
       "    </tr>\n",
       "    <tr>\n",
       "      <th>02/01/2009</th>\n",
       "      <td>28</td>\n",
       "      <td>13,34</td>\n",
       "      <td>13,63</td>\n",
       "    </tr>\n",
       "    <tr>\n",
       "      <th>02/01/2009</th>\n",
       "      <td>31</td>\n",
       "      <td>13,34</td>\n",
       "      <td>12,88</td>\n",
       "    </tr>\n",
       "    <tr>\n",
       "      <th>02/01/2009</th>\n",
       "      <td>45</td>\n",
       "      <td>13,29</td>\n",
       "      <td>13,06</td>\n",
       "    </tr>\n",
       "  </tbody>\n",
       "</table>\n",
       "</div>"
      ],
      "text/plain": [
       "           Dias Corridos 252(2)(4) 360(1)\n",
       "02/01/2009             3     13,62  13,27\n",
       "02/01/2009            13     13,35  13,20\n",
       "02/01/2009            28     13,34  13,63\n",
       "02/01/2009            31     13,34  12,88\n",
       "02/01/2009            45     13,29  13,06"
      ]
     },
     "execution_count": 22,
     "metadata": {},
     "output_type": "execute_result"
    }
   ],
   "source": [
    "df.head()"
   ]
  },
  {
   "cell_type": "code",
   "execution_count": 8,
   "metadata": {},
   "outputs": [],
   "source": [
    "df.to_csv('bmf_dataframe.csv')"
   ]
  },
  {
   "cell_type": "code",
   "execution_count": 23,
   "metadata": {},
   "outputs": [],
   "source": [
    "#to_replace=r'^ba.$', value='new', regex=True\n",
    "df.replace(to_replace=r'(,)', value='.', regex=True, inplace=True)"
   ]
  },
  {
   "cell_type": "code",
   "execution_count": 26,
   "metadata": {},
   "outputs": [
    {
     "data": {
      "text/plain": [
       "'3'"
      ]
     },
     "execution_count": 26,
     "metadata": {},
     "output_type": "execute_result"
    }
   ],
   "source": [
    "df.iloc[0][0]"
   ]
  },
  {
   "cell_type": "code",
   "execution_count": 38,
   "metadata": {},
   "outputs": [],
   "source": [
    "df['Dias Corridos'] = df['Dias Corridos'].astype(float)\n",
    "df['252(2)(4)'] = df['252(2)(4)'].astype(float)\n",
    "df['360(1)'] = df['360(1)'].astype(float)"
   ]
  },
  {
   "cell_type": "code",
   "execution_count": 87,
   "metadata": {},
   "outputs": [
    {
     "data": {
      "text/html": [
       "<div>\n",
       "<style scoped>\n",
       "    .dataframe tbody tr th:only-of-type {\n",
       "        vertical-align: middle;\n",
       "    }\n",
       "\n",
       "    .dataframe tbody tr th {\n",
       "        vertical-align: top;\n",
       "    }\n",
       "\n",
       "    .dataframe thead th {\n",
       "        text-align: right;\n",
       "    }\n",
       "</style>\n",
       "<table border=\"1\" class=\"dataframe\">\n",
       "  <thead>\n",
       "    <tr style=\"text-align: right;\">\n",
       "      <th></th>\n",
       "      <th>index</th>\n",
       "      <th>Dias Corridos</th>\n",
       "      <th>252(2)(4)</th>\n",
       "      <th>360(1)</th>\n",
       "    </tr>\n",
       "  </thead>\n",
       "  <tbody>\n",
       "    <tr>\n",
       "      <th>0</th>\n",
       "      <td>01/2009</td>\n",
       "      <td>3.0</td>\n",
       "      <td>13.62</td>\n",
       "      <td>13.27</td>\n",
       "    </tr>\n",
       "    <tr>\n",
       "      <th>1</th>\n",
       "      <td>01/2009</td>\n",
       "      <td>13.0</td>\n",
       "      <td>13.35</td>\n",
       "      <td>13.20</td>\n",
       "    </tr>\n",
       "    <tr>\n",
       "      <th>2</th>\n",
       "      <td>01/2009</td>\n",
       "      <td>28.0</td>\n",
       "      <td>13.34</td>\n",
       "      <td>13.63</td>\n",
       "    </tr>\n",
       "    <tr>\n",
       "      <th>3</th>\n",
       "      <td>01/2009</td>\n",
       "      <td>31.0</td>\n",
       "      <td>13.34</td>\n",
       "      <td>12.88</td>\n",
       "    </tr>\n",
       "    <tr>\n",
       "      <th>4</th>\n",
       "      <td>01/2009</td>\n",
       "      <td>45.0</td>\n",
       "      <td>13.29</td>\n",
       "      <td>13.06</td>\n",
       "    </tr>\n",
       "  </tbody>\n",
       "</table>\n",
       "</div>"
      ],
      "text/plain": [
       "     index  Dias Corridos  252(2)(4)  360(1)\n",
       "0  01/2009            3.0      13.62   13.27\n",
       "1  01/2009           13.0      13.35   13.20\n",
       "2  01/2009           28.0      13.34   13.63\n",
       "3  01/2009           31.0      13.34   12.88\n",
       "4  01/2009           45.0      13.29   13.06"
      ]
     },
     "execution_count": 87,
     "metadata": {},
     "output_type": "execute_result"
    }
   ],
   "source": [
    "# day+'/'+month+'/'+year\n",
    "df.reset_index().replace(to_replace=r'(^\\d\\d\\/)', value='', regex=True).head()"
   ]
  },
  {
   "cell_type": "code",
   "execution_count": 88,
   "metadata": {},
   "outputs": [],
   "source": [
    "import re\n",
    "re.sub(r\"(\\d.*?)\\s(\\d.*?)\", r\"\\1 \\2\", string1)"
   ]
  },
  {
   "cell_type": "code",
   "execution_count": 91,
   "metadata": {},
   "outputs": [],
   "source": [
    "df.index = df.index.map(lambda idx: re.sub(r'(^\\d\\d\\/)', '',idx))"
   ]
  },
  {
   "cell_type": "code",
   "execution_count": 92,
   "metadata": {},
   "outputs": [
    {
     "data": {
      "text/html": [
       "<div>\n",
       "<style scoped>\n",
       "    .dataframe tbody tr th:only-of-type {\n",
       "        vertical-align: middle;\n",
       "    }\n",
       "\n",
       "    .dataframe tbody tr th {\n",
       "        vertical-align: top;\n",
       "    }\n",
       "\n",
       "    .dataframe thead th {\n",
       "        text-align: right;\n",
       "    }\n",
       "</style>\n",
       "<table border=\"1\" class=\"dataframe\">\n",
       "  <thead>\n",
       "    <tr style=\"text-align: right;\">\n",
       "      <th></th>\n",
       "      <th>Dias Corridos</th>\n",
       "      <th>252(2)(4)</th>\n",
       "      <th>360(1)</th>\n",
       "    </tr>\n",
       "  </thead>\n",
       "  <tbody>\n",
       "    <tr>\n",
       "      <th>01/2009</th>\n",
       "      <td>3.0</td>\n",
       "      <td>13.62</td>\n",
       "      <td>13.27</td>\n",
       "    </tr>\n",
       "    <tr>\n",
       "      <th>01/2009</th>\n",
       "      <td>13.0</td>\n",
       "      <td>13.35</td>\n",
       "      <td>13.20</td>\n",
       "    </tr>\n",
       "    <tr>\n",
       "      <th>01/2009</th>\n",
       "      <td>28.0</td>\n",
       "      <td>13.34</td>\n",
       "      <td>13.63</td>\n",
       "    </tr>\n",
       "    <tr>\n",
       "      <th>01/2009</th>\n",
       "      <td>31.0</td>\n",
       "      <td>13.34</td>\n",
       "      <td>12.88</td>\n",
       "    </tr>\n",
       "    <tr>\n",
       "      <th>01/2009</th>\n",
       "      <td>45.0</td>\n",
       "      <td>13.29</td>\n",
       "      <td>13.06</td>\n",
       "    </tr>\n",
       "  </tbody>\n",
       "</table>\n",
       "</div>"
      ],
      "text/plain": [
       "         Dias Corridos  252(2)(4)  360(1)\n",
       "01/2009            3.0      13.62   13.27\n",
       "01/2009           13.0      13.35   13.20\n",
       "01/2009           28.0      13.34   13.63\n",
       "01/2009           31.0      13.34   12.88\n",
       "01/2009           45.0      13.29   13.06"
      ]
     },
     "execution_count": 92,
     "metadata": {},
     "output_type": "execute_result"
    }
   ],
   "source": [
    "df.head()"
   ]
  },
  {
   "cell_type": "code",
   "execution_count": null,
   "metadata": {},
   "outputs": [],
   "source": []
  }
 ],
 "metadata": {
  "kernelspec": {
   "display_name": "Python 3",
   "language": "python",
   "name": "python3"
  },
  "language_info": {
   "codemirror_mode": {
    "name": "ipython",
    "version": 3
   },
   "file_extension": ".py",
   "mimetype": "text/x-python",
   "name": "python",
   "nbconvert_exporter": "python",
   "pygments_lexer": "ipython3",
   "version": "3.6.8"
  }
 },
 "nbformat": 4,
 "nbformat_minor": 4
}
